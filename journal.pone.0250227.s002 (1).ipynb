{
 "cells": [
  {
   "cell_type": "code",
   "execution_count": 1,
   "metadata": {},
   "outputs": [],
   "source": [
    "# Load libraries \n",
    "import pandas as pd\n",
    "import numpy as np\n",
    "import matplotlib.pyplot as plt\n",
    "%matplotlib inline"
   ]
  },
  {
   "cell_type": "code",
   "execution_count": 2,
   "metadata": {},
   "outputs": [
    {
     "name": "stdout",
     "output_type": "stream",
     "text": [
      "          Genome  Fitness\n",
      "0   111111111111      200\n",
      "1   111111111112     1393\n",
      "2   111111111113     1869\n",
      "3   111111111121     1597\n",
      "4   111111111122     1896\n",
      "5   111111111123     1960\n",
      "6   111111111131     1875\n",
      "7   111111111132     1959\n",
      "8   111111111133     1961\n",
      "9   111111111211     1639\n",
      "10  111111111212     1683\n",
      "11  111111111213     1895\n",
      "12  111111111221     1848\n",
      "13  111111111222     1904\n",
      "14  111111111223     1964\n",
      "15  111111111231     1904\n",
      "16  111111111232     1949\n",
      "17  111111111233     1959\n",
      "18  111111111311     1852\n",
      "19  111111111312     1858\n"
     ]
    }
   ],
   "source": [
    "tempset = \"proc.data\"\n",
    "names = ['Genome', 'Fitness']\n",
    "dataset = pd.read_csv(tempset, sep=',', names = names)\n",
    "print(dataset.head(20))\n",
    "\n",
    "def split(word):\n",
    "    return [int(char) for char in str(word)]\n",
    "\n",
    "tidy_genome = np.zeros((dataset.shape[0], 12))\n",
    "\n",
    "genome_list = dataset['Genome']\n",
    "\n",
    "for i in range(len(genome_list)):\n",
    "    tidy_genome[i,:] = split(genome_list[i])\n",
    "\n"
   ]
  },
  {
   "cell_type": "code",
   "execution_count": null,
   "metadata": {},
   "outputs": [],
   "source": [
    "\n",
    "    "
   ]
  },
  {
   "cell_type": "code",
   "execution_count": 3,
   "metadata": {},
   "outputs": [],
   "source": [
    "from sklearn.model_selection import train_test_split\n",
    "X_train, X_test, y_train, y_test = train_test_split(\n",
    "    tidy_genome, dataset['Fitness']*1/2000.0, test_size=0.7, random_state=0)"
   ]
  },
  {
   "cell_type": "code",
   "execution_count": 4,
   "metadata": {},
   "outputs": [
    {
     "name": "stdout",
     "output_type": "stream",
     "text": [
      "TRAINING DATA =========\n",
      "X_train shape: (159432, 12)\n",
      "y_train shape: (159432,)\n"
     ]
    }
   ],
   "source": [
    "print(\"TRAINING DATA =========\")\n",
    "print(\"X_train shape: {}\".format(X_train.shape))\n",
    "print(\"y_train shape: {}\".format(y_train.shape))\n"
   ]
  },
  {
   "cell_type": "code",
   "execution_count": 5,
   "metadata": {},
   "outputs": [
    {
     "name": "stdout",
     "output_type": "stream",
     "text": [
      "TESTING DATA =========\n",
      "X_test shape: (372009, 12)\n",
      "y_test shape: (372009,)\n"
     ]
    }
   ],
   "source": [
    "print(\"TESTING DATA =========\")\n",
    "print(\"X_test shape: {}\".format(X_test.shape))\n",
    "print(\"y_test shape: {}\".format(y_test.shape))"
   ]
  },
  {
   "cell_type": "code",
   "execution_count": 6,
   "metadata": {},
   "outputs": [
    {
     "name": "stderr",
     "output_type": "stream",
     "text": [
      "Using TensorFlow backend.\n"
     ]
    }
   ],
   "source": [
    "from keras.models import Sequential\n",
    "from keras.layers import Dense\n",
    "import numpy\n",
    "# fix random seed for reproducibility\n",
    "numpy.random.seed(7)"
   ]
  },
  {
   "cell_type": "code",
   "execution_count": 7,
   "metadata": {},
   "outputs": [
    {
     "name": "stdout",
     "output_type": "stream",
     "text": [
      "WARNING:tensorflow:From /Users/pierre-philippedechant/anaconda3/lib/python3.7/site-packages/tensorflow/python/framework/op_def_library.py:263: colocate_with (from tensorflow.python.framework.ops) is deprecated and will be removed in a future version.\n",
      "Instructions for updating:\n",
      "Colocations handled automatically by placer.\n"
     ]
    }
   ],
   "source": [
    "# create model\n",
    "model = Sequential()\n",
    "model.add(Dense(20, input_dim=12, activation='linear'))\n",
    "model.add(Dense(30, activation='sigmoid'))\n",
    "model.add(Dense(20, activation='linear'))\n",
    "model.add(Dense(1, activation='sigmoid'))"
   ]
  },
  {
   "cell_type": "code",
   "execution_count": 8,
   "metadata": {},
   "outputs": [],
   "source": [
    "# Compile model\n",
    "model.compile(loss='binary_crossentropy', optimizer='adam', metrics=['accuracy'])"
   ]
  },
  {
   "cell_type": "code",
   "execution_count": 9,
   "metadata": {},
   "outputs": [
    {
     "name": "stdout",
     "output_type": "stream",
     "text": [
      "WARNING:tensorflow:From /Users/pierre-philippedechant/anaconda3/lib/python3.7/site-packages/tensorflow/python/ops/math_ops.py:3066: to_int32 (from tensorflow.python.ops.math_ops) is deprecated and will be removed in a future version.\n",
      "Instructions for updating:\n",
      "Use tf.cast instead.\n",
      "Epoch 1/20\n",
      "159432/159432 [==============================] - 36s 226us/step - loss: 0.4663 - acc: 0.0000e+00\n",
      "Epoch 2/20\n",
      "159432/159432 [==============================] - 17s 105us/step - loss: 0.4632 - acc: 0.0000e+00\n",
      "Epoch 3/20\n",
      "159432/159432 [==============================] - 15s 92us/step - loss: 0.4622 - acc: 0.0000e+00\n",
      "Epoch 4/20\n",
      "159432/159432 [==============================] - 16s 98us/step - loss: 0.4616 - acc: 0.0000e+00\n",
      "Epoch 5/20\n",
      "159432/159432 [==============================] - 15s 95us/step - loss: 0.4614 - acc: 0.0000e+00 1s - loss\n",
      "Epoch 6/20\n",
      "159432/159432 [==============================] - 14s 87us/step - loss: 0.4612 - acc: 0.0000e+00\n",
      "Epoch 7/20\n",
      "159432/159432 [==============================] - 16s 99us/step - loss: 0.4611 - acc: 0.0000e+00 0s - loss: 0.4610 - \n",
      "Epoch 8/20\n",
      "159432/159432 [==============================] - 14s 87us/step - loss: 0.4610 - acc: 0.0000e+00\n",
      "Epoch 9/20\n",
      "159432/159432 [==============================] - 13s 84us/step - loss: 0.4610 - acc: 0.0000e+00\n",
      "Epoch 10/20\n",
      "159432/159432 [==============================] - 14s 87us/step - loss: 0.4609 - acc: 0.0000e+00\n",
      "Epoch 11/20\n",
      "159432/159432 [==============================] - 14s 87us/step - loss: 0.4609 - acc: 0.0000e+00\n",
      "Epoch 12/20\n",
      "159432/159432 [==============================] - 14s 89us/step - loss: 0.4608 - acc: 0.0000e+00\n",
      "Epoch 13/20\n",
      "159432/159432 [==============================] - 13s 83us/step - loss: 0.4608 - acc: 0.0000e+00\n",
      "Epoch 14/20\n",
      "159432/159432 [==============================] - 13s 83us/step - loss: 0.4608 - acc: 0.0000e+00\n",
      "Epoch 15/20\n",
      "159432/159432 [==============================] - 13s 83us/step - loss: 0.4608 - acc: 0.0000e+00\n",
      "Epoch 16/20\n",
      "159432/159432 [==============================] - 14s 86us/step - loss: 0.4608 - acc: 0.0000e+00\n",
      "Epoch 17/20\n",
      "159432/159432 [==============================] - 17s 109us/step - loss: 0.4608 - acc: 0.0000e+00\n",
      "Epoch 18/20\n",
      "159432/159432 [==============================] - 14s 87us/step - loss: 0.4608 - acc: 0.0000e+00\n",
      "Epoch 19/20\n",
      "159432/159432 [==============================] - 13s 84us/step - loss: 0.4608 - acc: 0.0000e+00\n",
      "Epoch 20/20\n",
      "159432/159432 [==============================] - 13s 84us/step - loss: 0.4608 - acc: 0.0000e+00\n"
     ]
    },
    {
     "data": {
      "text/plain": [
       "<keras.callbacks.History at 0x1a35fb6978>"
      ]
     },
     "execution_count": 9,
     "metadata": {},
     "output_type": "execute_result"
    }
   ],
   "source": [
    "\n",
    "# Fit the model\n",
    "model.fit(X_train, y_train, epochs=20, batch_size=10)"
   ]
  },
  {
   "cell_type": "code",
   "execution_count": 10,
   "metadata": {},
   "outputs": [
    {
     "name": "stdout",
     "output_type": "stream",
     "text": [
      "[[0.9757633]]\n",
      "372009\n"
     ]
    }
   ],
   "source": [
    "Xnew = np.array([[3,1,1,1,1,1,1,1,1,1,1,3]])\n",
    "# make a prediction\n",
    "ynew = model.predict(Xnew)\n",
    "print(ynew)\n",
    "\n",
    "predicted_array = np.zeros(len(X_test))\n",
    "\n",
    "#predicted_array[0] = model.predict(np.array(X_test[0,:]))\n",
    "print(X_test.shape[0])\n",
    "\n",
    "y_pred = np.zeros(X_test.shape[0])\n",
    "\n",
    "for i in range(X_test.shape[0]):\n",
    "    Xnew = np.array([X_test[i,:]])\n",
    "    Ynew = model.predict(Xnew)\n",
    "    y_pred[i] = Ynew\n",
    "    \n"
   ]
  },
  {
   "cell_type": "code",
   "execution_count": 11,
   "metadata": {},
   "outputs": [
    {
     "data": {
      "image/png": "[encoded data removed]",
      "text/plain": [
       "<Figure size 432x288 with 1 Axes>"
      ]
     },
     "metadata": {
      "needs_background": "light"
     },
     "output_type": "display_data"
    }
   ],
   "source": [
    "import matplotlib.pyplot as plt\n",
    "import random\n",
    "%matplotlib inline\n",
    "t1 = [0,0.5, 1]\n",
    "\n",
    "s1 = [0,0.5, 1]\n",
    "\n",
    "plt.plot(y_pred[0:X_test.shape[0]], y_test[0:X_test.shape[0]], 'r.', t1, t1, s1, s1)\n",
    "\n",
    "plt.show()"
   ]
  },
  {
   "cell_type": "code",
   "execution_count": null,
   "metadata": {
    "scrolled": true
   },
   "outputs": [],
   "source": [
    "\n"
   ]
  },
  {
   "cell_type": "code",
   "execution_count": null,
   "metadata": {},
   "outputs": [],
   "source": []
  },
  {
   "cell_type": "code",
   "execution_count": null,
   "metadata": {},
   "outputs": [],
   "source": []
  },
  {
   "cell_type": "code",
   "execution_count": null,
   "metadata": {},
   "outputs": [],
   "source": []
  },
  {
   "cell_type": "code",
   "execution_count": null,
   "metadata": {},
   "outputs": [],
   "source": [
    "\n"
   ]
  },
  {
   "cell_type": "code",
   "execution_count": null,
   "metadata": {},
   "outputs": [],
   "source": []
  }
 ],
 "metadata": {
  "kernelspec": {
   "display_name": "Python 3",
   "language": "python",
   "name": "python3"
  },
  "language_info": {
   "codemirror_mode": {
    "name": "ipython",
    "version": 3
   },
   "file_extension": ".py",
   "mimetype": "text/x-python",
   "name": "python",
   "nbconvert_exporter": "python",
   "pygments_lexer": "ipython3",
   "version": "3.7.1"
  }
 },
 "nbformat": 4,
 "nbformat_minor": 2
}
